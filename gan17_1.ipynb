{
  "nbformat": 4,
  "nbformat_minor": 0,
  "metadata": {
    "colab": {
      "name": "gan17.1.ipynb",
      "provenance": [],
      "collapsed_sections": []
    },
    "kernelspec": {
      "name": "python3",
      "display_name": "Python 3"
    },
    "language_info": {
      "name": "python"
    }
  },
  "cells": [
    {
      "cell_type": "code",
      "source": [
        "!pip install torch torchvision d2l"
      ],
      "metadata": {
        "id": "j5D_xog6bMIY"
      },
      "execution_count": null,
      "outputs": []
    },
    {
      "cell_type": "code",
      "source": [
        "!pip uninstall matplotlib -y"
      ],
      "metadata": {
        "id": "Y6lxPnmwe7TA"
      },
      "execution_count": null,
      "outputs": []
    },
    {
      "cell_type": "code",
      "source": [
        "!pip install matplotlib # to fix a weird matplotlib bug"
      ],
      "metadata": {
        "id": "WfE1skNafrKC"
      },
      "execution_count": null,
      "outputs": []
    },
    {
      "cell_type": "code",
      "execution_count": null,
      "metadata": {
        "id": "Y4pjjYpzaxWU"
      },
      "outputs": [],
      "source": [
        "%matplotlib inline\n",
        "import torch\n",
        "from torch import nn\n",
        "from d2l import torch as d2l\n",
        "import matplotlib.pyplot as plt\n",
        "import numpy as np"
      ]
    },
    {
      "cell_type": "code",
      "source": [
        "X = torch.normal(0., 1., (1000, 2))\n",
        "A = torch.tensor([[1, 2], [-0.1, 0.5]])\n",
        "b = torch.tensor([1, 2])\n",
        "data = torch.matmul(X, A) + b"
      ],
      "metadata": {
        "id": "pJujU6_9dOFG"
      },
      "execution_count": null,
      "outputs": []
    },
    {
      "cell_type": "code",
      "source": [
        "plt.scatter(data[:100, 0].detach().numpy(), data[:100, 1].detach().numpy())\n",
        "print(f'covariance matrix: \\n{torch.matmul(A.T, A)}')"
      ],
      "metadata": {
        "colab": {
          "base_uri": "https://localhost:8080/",
          "height": 317
        },
        "id": "HtAcuBMZeDuw",
        "outputId": "45babe6a-4de6-43c5-9a73-6b9ebabe6d52"
      },
      "execution_count": null,
      "outputs": [
        {
          "output_type": "stream",
          "name": "stdout",
          "text": [
            "covariance matrix: \n",
            "tensor([[1.0100, 1.9500],\n",
            "        [1.9500, 4.2500]])\n"
          ]
        },
        {
          "output_type": "display_data",
          "data": {
            "image/png": "[encoded data removed]",
            "text/plain": [
              "<Figure size 432x288 with 1 Axes>"
            ]
          },
          "metadata": {
            "needs_background": "light"
          }
        }
      ]
    },
    {
      "cell_type": "code",
      "source": [
        "lr_D, lr_G, latent_dim, num_epochs = 0.05, 0.005, 2, 20\n",
        "\n",
        "batch_size = 8\n",
        "data_iter = d2l.load_array((data, ), batch_size)\n",
        "\n",
        "net_G = nn.Sequential(nn.Linear(2, 2))\n",
        "\n",
        "net_D = nn.Sequential(\n",
        "    nn.Linear(2, 5), nn.Tanh(),\n",
        "    nn.Linear(5, 3), nn.Tanh(),\n",
        "    nn.Linear(3, 1)\n",
        ")\n",
        "\n",
        "loss = nn.BCEWithLogitsLoss(reduction='sum')\n",
        "\n",
        "losses_D = []\n",
        "losses_G = []\n",
        "\n",
        "for w in net_D.parameters():\n",
        "    nn.init.normal_(w, 0, 0.02)\n",
        "for w in net_G.parameters():\n",
        "    nn.init.normal_(w, 0, 0.02)\n",
        "\n",
        "trainer_D = torch.optim.Adam(net_D.parameters(), lr=lr_D)\n",
        "trainer_G = torch.optim.Adam(net_G.parameters(), lr=lr_G)\n",
        "\n",
        "for epoch in range(num_epochs):\n",
        "    for (X,) in data_iter:\n",
        "        batch_size = X.shape[0]\n",
        "        Z = torch.normal(0., 1., size=(batch_size, latent_dim))\n",
        "\n",
        "        # update D\n",
        "        ones = torch.ones((batch_size,), device=X.device)\n",
        "        zeros = torch.zeros((batch_size,), device=X.device)\n",
        "        trainer_D.zero_grad()\n",
        "        real_Y = net_D(X)\n",
        "        fake_X = net_G(Z)\n",
        "        fake_Y = net_D(fake_X.detach()) # detach gradient for net_G because no need to compute it\n",
        "        loss_D = (loss(real_Y, ones.reshape(real_Y.shape)) + loss(fake_Y, zeros.reshape(fake_Y.shape))) / 2\n",
        "        losses_D.append(loss_D)\n",
        "        loss_D.backward()\n",
        "        trainer_D.step()\n",
        "\n",
        "        # update G\n",
        "        ones = torch.ones((batch_size,), device=Z.device)\n",
        "        trainer_G.zero_grad()\n",
        "        fake_X = net_G(Z) # could reuse from update_D\n",
        "        fake_Y = net_D(fake_X) # recomputation necessary since net_D is changed\n",
        "        loss_G = loss(fake_Y, ones.reshape(fake_Y.shape))\n",
        "        losses_G.append(loss_G)\n",
        "        loss_G.backward()\n",
        "        trainer_G.step()\n",
        "\n",
        "print(f'loss_D {loss_D:.3f}, loss_G {loss_G:.3f}')"
      ],
      "metadata": {
        "colab": {
          "base_uri": "https://localhost:8080/"
        },
        "id": "ZkNiPitCgdfd",
        "outputId": "e92e8834-2524-433f-d0b9-001e74a507d0"
      },
      "execution_count": null,
      "outputs": [
        {
          "output_type": "stream",
          "name": "stdout",
          "text": [
            "loss_D 4.864, loss_G 6.599\n"
          ]
        }
      ]
    },
    {
      "cell_type": "code",
      "source": [
        "plt.plot(np.arange(len(losses_D)), np.array(losses_D), np.array(losses_G))"
      ],
      "metadata": {
        "colab": {
          "base_uri": "https://localhost:8080/",
          "height": 303
        },
        "id": "IEmhHKxfYBm4",
        "outputId": "59b07d84-dc4a-49d1-c7f5-a9b854ad0daa"
      },
      "execution_count": null,
      "outputs": [
        {
          "output_type": "execute_result",
          "data": {
            "text/plain": [
              "[<matplotlib.lines.Line2D at 0x7f3378206ed0>,\n",
              " <matplotlib.lines.Line2D at 0x7f33729fd110>]"
            ]
          },
          "metadata": {},
          "execution_count": 20
        },
        {
          "output_type": "display_data",
          "data": {
            "image/png": "[encoded data removed]",
            "text/plain": [
              "<Figure size 432x288 with 1 Axes>"
            ]
          },
          "metadata": {
            "needs_background": "light"
          }
        }
      ]
    },
    {
      "cell_type": "code",
      "source": [
        "# visualize generated examples\n",
        "Z = torch.normal(0., 1., size=(100, latent_dim))\n",
        "fake_X = net_G(Z).detach().numpy()"
      ],
      "metadata": {
        "id": "lq4-X2lLX5Zf"
      },
      "execution_count": null,
      "outputs": []
    },
    {
      "cell_type": "code",
      "source": [
        "plt.scatter(data[:100, 0].detach().numpy(), data[:100, 1].detach().numpy())\n",
        "plt.scatter(fake_X[:, 0], fake_X[:, 1])"
      ],
      "metadata": {
        "colab": {
          "base_uri": "https://localhost:8080/",
          "height": 282
        },
        "id": "osxLRHaVJDfb",
        "outputId": "68df7b17-cf9d-48b9-c008-5fd9b5ebe1b6"
      },
      "execution_count": null,
      "outputs": [
        {
          "output_type": "execute_result",
          "data": {
            "text/plain": [
              "<matplotlib.collections.PathCollection at 0x7f33728c1b10>"
            ]
          },
          "metadata": {},
          "execution_count": 23
        },
        {
          "output_type": "display_data",
          "data": {
            "image/png": "[encoded data removed]",
            "text/plain": [
              "<Figure size 432x288 with 1 Axes>"
            ]
          },
          "metadata": {
            "needs_background": "light"
          }
        }
      ]
    }
  ]
}